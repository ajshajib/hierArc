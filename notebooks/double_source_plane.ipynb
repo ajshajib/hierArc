{
 "cells": [
  {
   "cell_type": "markdown",
   "id": "4900ee32",
   "metadata": {},
   "source": [
    "# Double source plane cosmology forecast"
   ]
  },
  {
   "cell_type": "code",
   "execution_count": null,
   "id": "aaf95f3e",
   "metadata": {},
   "outputs": [],
   "source": [
    "# import standard python modules\n",
    "import numpy as np\n",
    "import corner\n",
    "import copy\n",
    "import matplotlib.pyplot as plt\n",
    "import matplotlib.patches as mpatches\n",
    "%matplotlib inline\n",
    "\n",
    "# import lenstronomy and hierArc modules\n",
    "from lenstronomy.Cosmo.lens_cosmo import LensCosmo\n",
    "from hierarc.Sampling.ParamManager.cosmo_param import CosmoParam\n",
    "from hierarc.Sampling.mcmc_sampling import MCMCSampler\n",
    "\n",
    "# matplotlib configs\n",
    "from pylab import rc\n",
    "rc('axes', linewidth=2)\n",
    "rc('xtick',labelsize=15)\n",
    "rc('ytick',labelsize=15)"
   ]
  },
  {
   "cell_type": "markdown",
   "id": "e7fffce3",
   "metadata": {},
   "source": [
    "## Forecast settings\n",
    "\n",
    "Here we describe the redshift distribution, precision on Einstein radii ratios of an anticipated sample\n"
   ]
  },
  {
   "cell_type": "code",
   "execution_count": null,
   "id": "e78f8e6a",
   "metadata": {},
   "outputs": [],
   "source": [
    "from hierarc.Likelihood.LensLikelihood.double_source_plane import beta_double_source_plane\n",
    "\n",
    "# define a cosmology\n",
    "cosmology = 'FLCDM'  # Flat LCDM cosmology \n",
    "# other options are: \"FwCDM\", \"w0waCDM\", \"oLCDM\"\n",
    "kwargs_cosmo_true = {'h0': 70, 'om': 0.3}  # cosmological model of the forecast\n",
    "\n",
    "# create astropy.cosmology instance of input cosmology\n",
    "cosmo_param = CosmoParam(cosmology=cosmology)\n",
    "cosmo_true = cosmo_param.cosmo(kwargs_cosmo_true)\n",
    "\n",
    "\n",
    "# =====================================\n",
    "# TODO: match settings with publication\n",
    "# =====================================\n",
    "\n",
    "# number of double source plane lenses\n",
    "num_dspl = 87\n",
    "\n",
    "sigma_beta = 0.05  # relative precision on Einstein radius ratio\n",
    "\n",
    "def draw_lens():\n",
    "    \"\"\"\n",
    "    draw the likelihood object of a double source plane lens\n",
    "    \"\"\"\n",
    "    z_lens = np.random.uniform(low=0.2, high=0.5) \n",
    "    z_source1 = np.random.uniform(low=z_lens+0.2, high=3)\n",
    "    z_source2 = np.random.uniform(low=z_source1, high=5)\n",
    "    beta = beta_double_source_plane(z_lens, z_source1, z_source2, cosmo_true)\n",
    "    beta_measured = beta + np.random.normal(loc=0, scale=sigma_beta * beta)\n",
    "    kwargs_likelihood = {'z_lens': z_lens, 'z_source_1': z_source1, 'z_source_2': z_source2, \n",
    "                         'beta_dspl': beta_measured, 'sigma_beta_dspl': sigma_beta * beta,\n",
    "                         'likelihood_type': 'DSPL'}\n",
    "    return kwargs_likelihood\n",
    "\n",
    "\n",
    "kwargs_dspl_list = []\n",
    "\n",
    "for i in range(num_dspl):\n",
    "    kwargs_dspl_list.append(draw_lens())\n",
    "\n"
   ]
  },
  {
   "cell_type": "markdown",
   "id": "322fccaa",
   "metadata": {},
   "source": [
    "## hierArc sampling settings"
   ]
  },
  {
   "cell_type": "code",
   "execution_count": null,
   "id": "84bcf905",
   "metadata": {},
   "outputs": [],
   "source": [
    "# sampling settings\n",
    "n_walkers = 100\n",
    "n_run = 200\n",
    "n_burn = 200\n",
    "\n",
    "cosmology = 'FwCDM'\n",
    "\n",
    "kwargs_mean_start = {'kwargs_cosmo': {'h0': 70, 'om': 0.3, 'w': -1}}\n",
    "\n",
    "kwargs_sigma_start = {'kwargs_cosmo': {'h0': 10, 'om': 0.05, 'w': 0.2}}\n",
    "\n",
    "\n",
    "kwargs_bounds = {'kwargs_lower_cosmo': {'h0': 0, 'om': 0, 'w': -2},\n",
    "                'kwargs_upper_cosmo': {'h0': 200, 'om': 1, 'w': 0},\n",
    "                'kwargs_fixed_cosmo': {'h0': kwargs_cosmo_true['h0']}}\n",
    "\n",
    "\n",
    "\n",
    "\n",
    "# joint options for hierArc sampling\n",
    "kwargs_sampler = {'cosmology': cosmology, 'kwargs_bounds': kwargs_bounds,\n",
    "                  'lambda_mst_sampling': False,  \n",
    "                  'anisotropy_sampling': False,\n",
    "                  'kappa_ext_sampling': False, 'kappa_ext_distribution': 'NONE', \n",
    "                  'alpha_lambda_sampling': False, 'sigma_v_systematics': False,\n",
    "                  'log_scatter': False, \n",
    "                  'custom_prior': None, 'interpolate_cosmo': False,\n",
    "                  'num_redshift_interp': 100, 'cosmo_fixed': None}\n",
    "\n"
   ]
  },
  {
   "cell_type": "code",
   "execution_count": null,
   "id": "d6d585f6",
   "metadata": {},
   "outputs": [],
   "source": [
    "mcmc_sampler = MCMCSampler(kwargs_dspl_list, **kwargs_sampler)\n",
    "mcmc_samples, log_prob = mcmc_sampler.mcmc_emcee(n_walkers, n_burn, n_run, kwargs_mean_start, kwargs_sigma_start)\n",
    "\n",
    "corner.corner(mcmc_samples, show_titles=True, labels=mcmc_sampler.param_names(latex_style=True))\n",
    "plt.show()"
   ]
  },
  {
   "cell_type": "code",
   "execution_count": null,
   "id": "f9c3d24e",
   "metadata": {},
   "outputs": [],
   "source": []
  }
 ],
 "metadata": {
  "kernelspec": {
   "display_name": "Python 3",
   "language": "python",
   "name": "python3"
  },
  "language_info": {
   "codemirror_mode": {
    "name": "ipython",
    "version": 3
   },
   "file_extension": ".py",
   "mimetype": "text/x-python",
   "name": "python",
   "nbconvert_exporter": "python",
   "pygments_lexer": "ipython3",
   "version": "3.6.9"
  }
 },
 "nbformat": 4,
 "nbformat_minor": 5
}
